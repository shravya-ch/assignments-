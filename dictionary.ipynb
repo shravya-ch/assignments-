{
 "cells": [
  {
   "cell_type": "code",
   "execution_count": 1,
   "metadata": {},
   "outputs": [
    {
     "name": "stdout",
     "output_type": "stream",
     "text": [
      "{'grade': 'b', 'roll_num': '12', 'name': 'shravya'} shravya\n",
      "shravya\n",
      "****\n",
      "['grade', 'roll_num', 'name']\n",
      "['b', '12', 'shravya']\n",
      "[('grade', 'b'), ('roll_num', '12'), ('name', 'shravya')]\n",
      "****\n"
     ]
    }
   ],
   "source": [
    "#Dictionaries have no order ,items are stored according to the key\n",
    "\n",
    "student_data = {'name' : 'shravya','roll_num':'12','grade':'b'}\n",
    "\n",
    "print student_data,student_data['name']\n",
    "\n",
    "x = student_data.get('name')\n",
    "\n",
    "print x\n",
    "\n",
    "print '****'\n",
    "\n",
    "print  student_data.keys()\n",
    "\n",
    "print  student_data.values()\n",
    "\n",
    "print  student_data.items()\n",
    "\n",
    "print '****'"
   ]
  },
  {
   "cell_type": "code",
   "execution_count": 12,
   "metadata": {},
   "outputs": [
    {
     "name": "stdout",
     "output_type": "stream",
     "text": [
      "apple\n",
      "sugar\n",
      "rice\n",
      "milk\n",
      "egg\n"
     ]
    }
   ],
   "source": [
    "#250g of apple, 500g of sugar, 2.5 kg of rice, 2.5 litres of milk and finally 1 dozen of egg.\n",
    "comm = {'apple':0.25,'sugar' : 0.5,'rice' : 2.5, 'milk':2.5,'egg': 1  }\n",
    "comm['atta'] = 1\n",
    "comm['rice'] =1\n",
    "for items in comm.keys():\n",
    "    print(items)"
   ]
  },
  {
   "cell_type": "code",
   "execution_count": 17,
   "metadata": {},
   "outputs": [
    {
     "name": "stdout",
     "output_type": "stream",
     "text": [
      "apple 55.0\n",
      "sugar 21.5\n",
      "rice 45\n",
      "milk 75.0\n",
      "egg 60\n",
      "256.5\n"
     ]
    }
   ],
   "source": [
    "#1 kg apple is Rs.220, 1 kg of sugar is Rs.43, 1 Kg of rice is Rs. 45, 1 litre of milk is Rs.30 and 1 dozen of egg is Rs. 60.\n",
    "cost = {'apple':220,'sugar': 43,'rice':45,'milk':30,'egg':60}\n",
    "total = 0 \n",
    "for items in comm.keys():\n",
    "    print ( items ,comm[items]*cost[items])\n",
    "    total = total +comm[items]*cost[items]\n",
    "\n",
    "print(total)"
   ]
  },
  {
   "cell_type": "code",
   "execution_count": 2,
   "metadata": {},
   "outputs": [
    {
     "name": "stdout",
     "output_type": "stream",
     "text": [
      "b\n",
      "12\n",
      "shravya\n",
      "****\n",
      "b\n",
      "12\n",
      "shravya\n",
      "****\n",
      "grade\n",
      "roll_num\n",
      "name\n",
      "****\n"
     ]
    }
   ],
   "source": [
    "for data in student_data.values(): #u can iterate over items or values or keys only\n",
    "\n",
    "    print (data)\n",
    "\n",
    "print '****'\n",
    "\n",
    "for data1 in student_data.keys():\n",
    "\n",
    "     print student_data[data1]\n",
    "\n",
    "print '****'\n",
    "\n",
    "for key in student_data.keys():\n",
    "\n",
    "    print key\n",
    "\n",
    "print '****'"
   ]
  },
  {
   "cell_type": "code",
   "execution_count": 3,
   "metadata": {},
   "outputs": [
    {
     "name": "stdout",
     "output_type": "stream",
     "text": [
      "{'grade': 'b', 1: 'A', 'roll_num': '12', 'name': 'divya'}\n"
     ]
    }
   ],
   "source": [
    "#we can modify a single dictionary item or add new one into it\n",
    "\n",
    "student_data[1] = 'A'\n",
    "\n",
    "student_data['name'] = 'divya'\n",
    "\n",
    "print student_data"
   ]
  },
  {
   "cell_type": "code",
   "execution_count": 4,
   "metadata": {},
   "outputs": [
    {
     "name": "stdout",
     "output_type": "stream",
     "text": [
      "A {'grade': 'b', 'roll_num': '12', 'name': 'divya'}\n"
     ]
    }
   ],
   "source": [
    "k = student_data.pop(1) #pop can be used on keys only\n",
    "\n",
    "print k, student_data\n",
    "\n"
   ]
  },
  {
   "cell_type": "code",
   "execution_count": 5,
   "metadata": {},
   "outputs": [
    {
     "name": "stdout",
     "output_type": "stream",
     "text": [
      "{}\n"
     ]
    }
   ],
   "source": [
    "student_data.clear()\n",
    "\n",
    "print student_data\n",
    "\n"
   ]
  },
  {
   "cell_type": "code",
   "execution_count": null,
   "metadata": {},
   "outputs": [],
   "source": []
  }
 ],
 "metadata": {
  "kernelspec": {
   "display_name": "Python 3",
   "language": "python",
   "name": "python3"
  },
  "language_info": {
   "codemirror_mode": {
    "name": "ipython",
    "version": 3
   },
   "file_extension": ".py",
   "mimetype": "text/x-python",
   "name": "python",
   "nbconvert_exporter": "python",
   "pygments_lexer": "ipython3",
   "version": "3.7.5"
  }
 },
 "nbformat": 4,
 "nbformat_minor": 2
}
