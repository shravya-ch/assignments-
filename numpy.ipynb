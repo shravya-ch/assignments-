{
 "cells": [
  {
   "cell_type": "code",
   "execution_count": 3,
   "metadata": {},
   "outputs": [
    {
     "name": "stdout",
     "output_type": "stream",
     "text": [
      "[[1 2]\n",
      " [3 4]] \n",
      " (2, 2) \n",
      " int32 \n",
      " 4 \n",
      " 2\n"
     ]
    }
   ],
   "source": [
    "#pressing shift + tab inside the braces gives the syntax of that command \n",
    "import numpy as np\n",
    "\n",
    "x = np.array ([[1,2],[3,4]]) #2 dimensional array\n",
    "\n",
    "print (x, '\\n',x.shape ,'\\n', x.dtype ,'\\n', x.size ,'\\n',x.ndim)"
   ]
  },
  {
   "cell_type": "code",
   "execution_count": 10,
   "metadata": {},
   "outputs": [
    {
     "data": {
      "text/plain": [
       "['\\x01',\n",
       " '\\x00',\n",
       " '\\x00',\n",
       " '\\x00',\n",
       " '\\x02',\n",
       " '\\x00',\n",
       " '\\x00',\n",
       " '\\x00',\n",
       " '\\x03',\n",
       " '\\x00',\n",
       " '\\x00',\n",
       " '\\x00',\n",
       " '\\x04',\n",
       " '\\x00',\n",
       " '\\x00',\n",
       " '\\x00']"
      ]
     },
     "execution_count": 10,
     "metadata": {},
     "output_type": "execute_result"
    }
   ],
   "source": [
    "p = x.data\n",
    "list(p)"
   ]
  },
  {
   "cell_type": "code",
   "execution_count": 11,
   "metadata": {},
   "outputs": [
    {
     "name": "stdout",
     "output_type": "stream",
     "text": [
      "4 \n",
      "16\n"
     ]
    }
   ],
   "source": [
    "print x.itemsize,'\\n',\n",
    "print x.size*x.itemsize #this gives you the memory usage"
   ]
  },
  {
   "cell_type": "code",
   "execution_count": 7,
   "metadata": {},
   "outputs": [
    {
     "name": "stdout",
     "output_type": "stream",
     "text": [
      "[1 2 3 5 7]\n",
      "[0. 0. 0. 0.]\n",
      "[0. 2. 0. 0.]\n",
      "[1 2 3 5]\n",
      "[ 2  4  6 10 14]\n"
     ]
    }
   ],
   "source": [
    "m = np.array ([1,2,3,5,7]) #1d array \n",
    "print m \n",
    "\n",
    "n = np.zeros (4) #1d array of 4 zeros\n",
    "print n \n",
    "n[1] = '2'\n",
    "print n \n",
    "\n",
    "print (m[0:-1])\n",
    "print m*2  #we can perform calculations on every element in the vector with a single statement"
   ]
  },
  {
   "cell_type": "code",
   "execution_count": 2,
   "metadata": {},
   "outputs": [],
   "source": [
    "y = np.ndarray #n dimensional array\n"
   ]
  },
  {
   "cell_type": "code",
   "execution_count": 3,
   "metadata": {},
   "outputs": [
    {
     "name": "stdout",
     "output_type": "stream",
     "text": [
      "[[1938750720          0]\n",
      " [1938720032          0]]\n"
     ]
    }
   ],
   "source": [
    "p = np.empty(shape=[2,2],dtype = int) #uninitialised array of given type and size with junk values\n",
    "\n",
    "print p"
   ]
  },
  {
   "cell_type": "code",
   "execution_count": 4,
   "metadata": {},
   "outputs": [
    {
     "name": "stdout",
     "output_type": "stream",
     "text": [
      "[[0 0 0]\n",
      " [0 0 0]]\n"
     ]
    }
   ],
   "source": [
    "q = np.zeros(shape=[2,3],dtype = int , order = 'C') #row based matrix with all values zero\n",
    "\n",
    "#python first generates 6 values and arranges them in row wise\n",
    "\n",
    "print q"
   ]
  },
  {
   "cell_type": "code",
   "execution_count": 5,
   "metadata": {},
   "outputs": [
    {
     "name": "stdout",
     "output_type": "stream",
     "text": [
      "[[0. 0. 0.]\n",
      " [0. 0. 0.]\n",
      " [0. 0. 0.]]\n"
     ]
    }
   ],
   "source": [
    "r = np.zeros(shape=[3,3],dtype = float , order = \"F\")#column based matix\n",
    "\n",
    "print r"
   ]
  },
  {
   "cell_type": "code",
   "execution_count": 6,
   "metadata": {},
   "outputs": [
    {
     "name": "stdout",
     "output_type": "stream",
     "text": [
      "[[1. 1. 1.]\n",
      " [1. 1. 1.]]\n"
     ]
    }
   ],
   "source": [
    "s = np.ones(shape=[2,3],order=\"F\")\n",
    "\n",
    "print s"
   ]
  },
  {
   "cell_type": "code",
   "execution_count": 7,
   "metadata": {},
   "outputs": [
    {
     "name": "stdout",
     "output_type": "stream",
     "text": [
      "[[93745408        0 93745408]] \n",
      "[[0 0 0]] \n",
      "[[1 1 1]]\n",
      "[[[93745408        0 93745408]]\n",
      "\n",
      " [[       0        0        0]]\n",
      "\n",
      " [[       1        1        1]]]\n",
      "[[93745408        0 93745408]\n",
      " [       0        0        0]\n",
      " [       1        1        1]]\n",
      "(3L, 1L, 3L) (3L, 3L)\n"
     ]
    }
   ],
   "source": [
    "#passing 3 arrays to one\n",
    "\n",
    "m = np.empty(shape=[1,3],order=\"C\",dtype = int)\n",
    "\n",
    "n = np.zeros(shape=[1,3],order=\"C\",dtype = int)\n",
    "\n",
    "o = np.ones(shape=[1,3],order=\"C\",dtype = int)\n",
    "\n",
    "print m,'\\n', n ,'\\n', o\n",
    "\n",
    "output = np.array([m,n,o])\n",
    "\n",
    "print output\n",
    "\n",
    "out2 = np.concatenate([m,n,o])\n",
    "\n",
    "print out2\n",
    "\n",
    "print output.shape ,out2.shape"
   ]
  },
  {
   "cell_type": "code",
   "execution_count": 11,
   "metadata": {},
   "outputs": [
    {
     "name": "stdout",
     "output_type": "stream",
     "text": [
      "[0 1 2 3 4 5 6 7 8 9]\n",
      "[0 2 4 6 8]\n",
      "[array([False, False, False, False, False, False,  True,  True,  True,\n",
      "        True])]\n",
      "[6 7 8 9]\n",
      "(array([0, 1, 2], dtype=int64),)\n",
      "[ 0  1  3  6 10 15 21 28 36 45]\n"
     ]
    }
   ],
   "source": [
    "#series of arrangement\n",
    "\n",
    "z= np.arange(start = 0 ,stop = 10 ,step = 1,dtype = int)\n",
    "\n",
    "print z # python always includes start and exclude stop\n",
    "\n",
    "print z[-10:20:2]\n",
    "\n",
    "print [(z>5)]#boolean values are displayed\n",
    "\n",
    "print (z[z>5])#only the elements satisfying is displayed\n",
    "print np.where (z<3) #equivalent to z[z<3]\n",
    "\n",
    "print np.cumsum(z) #cumulative sum,can be performed only on numbers"
   ]
  },
  {
   "cell_type": "code",
   "execution_count": 13,
   "metadata": {},
   "outputs": [
    {
     "name": "stdout",
     "output_type": "stream",
     "text": [
      "[1.         1.04081633 1.08163265 1.12244898 1.16326531 1.20408163\n",
      " 1.24489796 1.28571429 1.32653061 1.36734694 1.40816327 1.44897959\n",
      " 1.48979592 1.53061224 1.57142857 1.6122449  1.65306122 1.69387755\n",
      " 1.73469388 1.7755102  1.81632653 1.85714286 1.89795918 1.93877551\n",
      " 1.97959184 2.02040816 2.06122449 2.10204082 2.14285714 2.18367347\n",
      " 2.2244898  2.26530612 2.30612245 2.34693878 2.3877551  2.42857143\n",
      " 2.46938776 2.51020408 2.55102041 2.59183673 2.63265306 2.67346939\n",
      " 2.71428571 2.75510204 2.79591837 2.83673469 2.87755102 2.91836735\n",
      " 2.95918367 3.        ]\n"
     ]
    }
   ],
   "source": [
    "z = np.linspace(start= 1,  stop=3, num=50, endpoint=True, retstep=False, dtype=None)\n",
    "#linspace is same like arange but it includes endpoint or stop by default and we can disable it by making endpoint as False \n",
    "#num is the number of samples which by default equals 50\n",
    "#retstep by default is False if the step is displayed or not \n",
    "print z"
   ]
  },
  {
   "cell_type": "code",
   "execution_count": 12,
   "metadata": {},
   "outputs": [
    {
     "name": "stdout",
     "output_type": "stream",
     "text": [
      "[[1. 1.]\n",
      " [1. 1.]\n",
      " [1. 1.]]\n",
      "[[1. 1.]\n",
      " [1. 1.]\n",
      " [1. 1.]] (3L, 2L)\n",
      "[[1. 1.]\n",
      " [1. 1.]\n",
      " [1. 1.]]\n"
     ]
    }
   ],
   "source": [
    "print s.reshape((3,2)) #dimensions should match 3*2 = 1*6\n",
    "s1 = s.T  #Transpose using attribute\n",
    "\n",
    "print s1 ,s1.shape\n",
    "\n",
    "s2 = s.transpose(1,0) #transpose using method\n",
    "\n",
    "print s2"
   ]
  },
  {
   "cell_type": "code",
   "execution_count": 10,
   "metadata": {},
   "outputs": [
    {
     "name": "stdout",
     "output_type": "stream",
     "text": [
      "[[[1 1 1]\n",
      "  [1 1 1]]\n",
      "\n",
      " [[1 1 1]\n",
      "  [1 1 1]]] \n",
      "[1 1 1 1 1 1 1 1 1 1 1 1] (12L,)\n",
      "[1 1 1 1 1 1 1 1 1 1 1 1]\n"
     ]
    }
   ],
   "source": [
    "m = np.ones(shape =[2,2,3],order ='C', dtype = int)\n",
    "\n",
    "print m ,'\\n',\n",
    "\n",
    "m1 = m.flatten()\n",
    "\n",
    "print m1, m1.shape  #flatten collapses the n dimension array into single array\n",
    "\n",
    "m2 = m.ravel()\n",
    "\n",
    "print m2  #ravel is faster tha flatten and unravelling converts Data into 1D"
   ]
  },
  {
   "cell_type": "code",
   "execution_count": 28,
   "metadata": {},
   "outputs": [
    {
     "name": "stdout",
     "output_type": "stream",
     "text": [
      "[[1 0 0]\n",
      " [1 0 0]\n",
      " [2 3 4]]\n",
      "[[1 0 0]\n",
      " [2 3 4]]\n",
      "[[0 0 1]\n",
      " [0 0 1]\n",
      " [3 4 2]]\n"
     ]
    }
   ],
   "source": [
    "a = np.array([[1, 0, 0], [1, 0, 0], [2, 3, 4]])\n",
    "\n",
    "print a\n",
    "\n",
    "print np.unique(a, axis=0) # gives unique rows\n",
    "\n",
    "print np.unique(a, axis=1)  #gives unique columns\n"
   ]
  },
  {
   "cell_type": "code",
   "execution_count": 31,
   "metadata": {},
   "outputs": [
    {
     "name": "stdout",
     "output_type": "stream",
     "text": [
      "1\n",
      "[[0]\n",
      " [3]]\n",
      "[1 2]\n",
      "[1 1 2]\n",
      "[1 0 0]\n"
     ]
    }
   ],
   "source": [
    "#Scaling \n",
    "print a[0,0] + a[0,1] #Individual elements can be accessed or a[0][1] does the same \n",
    "print a[1:3,1:2]  #prints the common elements \n",
    "print a[1:3,0] #prints the elements of 1st and 2nd row for zeroth column \n",
    "print a[:,0] #prints elements of zeroth column  \n",
    "print a[0]  #prints elements of zeroth row "
   ]
  },
  {
   "cell_type": "code",
   "execution_count": 34,
   "metadata": {},
   "outputs": [
    {
     "name": "stdout",
     "output_type": "stream",
     "text": [
      "[[1 0 0]\n",
      " [1 0 0]]\n",
      "[[1 0]\n",
      " [1 0]]\n"
     ]
    }
   ],
   "source": [
    "#stepping :can be done by adding second colon \n",
    "print a[0:2:1] #prints 0,1 st rows with a step of 1\n",
    "print a[0:2:1,::2] "
   ]
  },
  {
   "cell_type": "code",
   "execution_count": 25,
   "metadata": {},
   "outputs": [
    {
     "name": "stdout",
     "output_type": "stream",
     "text": [
      "11 \n",
      "0 \n",
      "4 \n",
      "[0 0 0] \n",
      "8 \n",
      "1.2222222222222223 \n",
      "1.0"
     ]
    },
    {
     "data": {
      "text/plain": [
       "1.3966450099973928"
      ]
     },
     "execution_count": 25,
     "metadata": {},
     "output_type": "execute_result"
    },
    {
     "name": "stdout",
     "output_type": "stream",
     "text": [
      "\n"
     ]
    }
   ],
   "source": [
    "b = np.array([[1, 0, 0], [1, 0, 0], [2, 3, 4]])\n",
    "\n",
    "print np.sum(b),'\\n',np.min(b),'\\n',np.max(b),'\\n',np.argmin(b,axis = 0),'\\n',np.argmax(b),'\\n',np.mean(b),'\\n',np.median(b),\n",
    "np.std(b)\n",
    "\n",
    "#argmin and argmax returns the indices of the min and max along the axis if mentioned\n",
    "#else they consider as 1D array and returns the indices"
   ]
  },
  {
   "cell_type": "code",
   "execution_count": 21,
   "metadata": {},
   "outputs": [
    {
     "name": "stdout",
     "output_type": "stream",
     "text": [
      "[array([1, 0, 0]), array([1, 0, 0]), array([2, 3, 4])]\n",
      "(array([1, 0, 0]), array([1, 0, 0]), array([2, 3, 4]))\n"
     ]
    }
   ],
   "source": [
    "print list (a)\n",
    "print tuple (a) # Convert from array to list or tuple"
   ]
  },
  {
   "cell_type": "code",
   "execution_count": 17,
   "metadata": {},
   "outputs": [
    {
     "name": "stdout",
     "output_type": "stream",
     "text": [
      "[[[0.8734294  0.96854066 0.86919454 0.53085569 0.23272833 0.0113988 ]\n",
      "  [0.43046882 0.40235136 0.52267467 0.4783918  0.55535647 0.54338602]\n",
      "  [0.76089558 0.71237457 0.6196821  0.42609177 0.28907503 0.97385524]]\n",
      "\n",
      " [[0.33377405 0.21880106 0.06580839 0.98287055 0.12785571 0.32213079]\n",
      "  [0.07094284 0.22476994 0.39363491 0.896145   0.34546161 0.98474944]\n",
      "  [0.02873205 0.35168474 0.38095889 0.76416013 0.93880391 0.3196898 ]]]\n",
      "None\n"
     ]
    }
   ],
   "source": [
    "#Random is a class in numpy,it generates random numbers different times.\n",
    "#Seed is the function to preserve randomness.it's value is fixed for particular randomness everywhere ,\n",
    "#For ex: 5 has one type of randomness and 8 has different type of randomness.\n",
    "#if we are preserving the particular seed and use it at some other place it generates same random value .\n",
    "\n",
    "from numpy import random\n",
    "\n",
    "random.seed(8) #or np.random.seed(2)\n",
    "\n",
    "c = random.rand(2,3,6)\n",
    "\n",
    "print c\n",
    "\n",
    "from numpy.random import shuffle\n",
    "c1 = random.shuffle(c); #shuffle can be used only on lists ,and contents remain the same \n",
    "print c1"
   ]
  },
  {
   "cell_type": "code",
   "execution_count": 19,
   "metadata": {},
   "outputs": [
    {
     "name": "stdout",
     "output_type": "stream",
     "text": [
      "[4.17022005e+00 7.20324493e+00 1.14374817e-03 3.02332573e+00\n",
      " 1.46755891e+00]\n",
      "[[0.09233859 0.18626021 0.34556073]\n",
      " [0.39676747 0.53881673 0.41919451]]\n",
      "[4.17022005e+00 7.20324493e+00 1.14374817e-03 3.02332573e+00\n",
      " 1.46755891e+00]\n",
      "[[0.09233859 0.18626021 0.34556073]\n",
      " [0.39676747 0.53881673 0.41919451]]\n"
     ]
    }
   ],
   "source": [
    "#If you want to set the seed that calls to np.random... will use, use np.random.seed:\n",
    "\n",
    "np.random.seed(1)\n",
    "print np.random.uniform(0, 10, 5)\n",
    "#array([ 1.9151945 ,  6.22108771,  4.37727739,  7.85358584,  7.79975808])\n",
    "print np.random.rand(2,3) #or np.random.random(),np.random_sample gives the same \n",
    "#array([[ 0.27259261,  0.27646426,  0.80187218],\n",
    "#       [ 0.95813935,  0.87593263,  0.35781727]])\n",
    "#If you want to use the class, you must save an instance of the class, initiated with a seed:\n",
    "\n",
    "r = np.random.RandomState(1)\n",
    "#RandomState exposes a number of methods for generating random numbers drawn from a variety of probability distributions. \n",
    "#In addition to the distribution-specific arguments, each method takes a keyword argument size that defaults to None.\n",
    "#If size is None, then a single value is generated and returned. \n",
    "#If size is an integer, then a 1-D array filled with generated values is returned.\n",
    "#If size is a tuple, then an array with that shape is filled and returned.\n",
    "print r.uniform(0, 10, 5)\n",
    "#array([ 1.9151945 ,  6.22108771,  4.37727739,  7.85358584,  7.79975808])\n",
    "#And it maintains the state just as before:\n",
    "\n",
    "print r.rand(2,3)\n",
    "#array([[ 0.27259261,  0.27646426,  0.80187218],\n",
    "#       [ 0.95813935,  0.87593263,  0.35781727]])\n"
   ]
  },
  {
   "cell_type": "code",
   "execution_count": 20,
   "metadata": {},
   "outputs": [
    {
     "name": "stdout",
     "output_type": "stream",
     "text": [
      "C:\\Users\\home\n",
      "[[1 0 0]\n",
      " [1 0 0]\n",
      " [2 3 4]]\n"
     ]
    }
   ],
   "source": [
    "#numpy array can be saved into .npy files in the current working directory and loaded\n",
    "\n",
    "import os\n",
    "\n",
    "print os.getcwd()\n",
    "\n",
    "np.save('b.npy',b)\n",
    "\n",
    "d = np.load(\"b.npy\")\n",
    "\n",
    "print d"
   ]
  },
  {
   "cell_type": "code",
   "execution_count": 21,
   "metadata": {},
   "outputs": [
    {
     "name": "stdout",
     "output_type": "stream",
     "text": [
      "[ True  True  True  True  True False False False False False] \n",
      "[ 1  3  5  7  9 11 13 15 17 19] \n",
      "[1 3 5 7 9]\n",
      "[1 3 5 7 9] \n",
      "[ 1  3  5  7  9 11 13 15 17 19]\n",
      "[11 13 15 17 19] \n",
      "[11 13 15 17 19] \n",
      "[]\n"
     ]
    }
   ],
   "source": [
    "p = np.arange(1,20,2)\n",
    "\n",
    "q= np.array([1,3,5,7,9])\n",
    "\n",
    "#Set operations\n",
    "\n",
    "print np.in1d(p,q),'\\n' ,p,'\\n',q #prints boolean values of one array in another\n",
    "\n",
    "print np.intersect1d(p,q) ,'\\n',np.union1d(p,q) #intersection and union of arrays\n",
    "\n",
    "print np.setxor1d(p,q),'\\n',np.setdiff1d(p,q),'\\n',np.setdiff1d(q,p)\n",
    "\n",
    "#xor i slogical xor ,p-q and q-p"
   ]
  },
  {
   "cell_type": "code",
   "execution_count": 28,
   "metadata": {},
   "outputs": [],
   "source": [
    "xdata = np.array ([0.0 , 1.0 , 2.0 , 3.0 , 4.0 , 5.0])\n",
    "ydata = np.array ([0.0 , 0.8 , 0.9 , 0.1 , -0.8 , -1.0])\n",
    "\n",
    "z = np.polyfit(xdata,ydata,3)  #a desired order of the polynomial that will be determined to fit the data\n",
    "#in the least-square sense as well as possible.\n",
    "\n",
    "p  = np.poly1d(z) #creates a polynomial function p from coefficients and p can be evaluated for all x then .\n",
    "\n",
    "xs = [0.1*x for x in range (50)] #evaluate p ( x ) for all x in list xs\n",
    "ys = [p(x) for x in xs]\n"
   ]
  },
  {
   "cell_type": "code",
   "execution_count": 34,
   "metadata": {},
   "outputs": [
    {
     "data": {
      "image/png": "[encoded data removed]",
      "text/plain": [
       "<matplotlib.figure.Figure at 0x7d32860>"
      ]
     },
     "metadata": {},
     "output_type": "display_data"
    }
   ],
   "source": [
    "import pylab\n",
    "pylab.plot ( xdata , ydata , 'o' , label = 'data ')\n",
    "pylab.plot ( xs , ys , label = 'fitted curve' )\n",
    "pylab.ylabel ('y')\n",
    "pylab.xlabel ('x')\n",
    "pylab.savefig ('polyfit.pdf')\n",
    "pylab.show ()\n"
   ]
  },
  {
   "cell_type": "code",
   "execution_count": 38,
   "metadata": {},
   "outputs": [
    {
     "data": {
      "text/plain": [
       "u'C:\\\\Users\\\\home'"
      ]
     },
     "execution_count": 38,
     "metadata": {},
     "output_type": "execute_result"
    }
   ],
   "source": [
    "pwd"
   ]
  },
  {
   "cell_type": "code",
   "execution_count": 5,
   "metadata": {},
   "outputs": [
    {
     "data": {
      "text/plain": [
       "(10,)"
      ]
     },
     "execution_count": 5,
     "metadata": {},
     "output_type": "execute_result"
    }
   ],
   "source": [
    "import numpy as np\n",
    "p = np.arange(0,10,1)\n",
    "p.shape"
   ]
  },
  {
   "cell_type": "code",
   "execution_count": 4,
   "metadata": {},
   "outputs": [
    {
     "data": {
      "text/plain": [
       "array([[ True,  True,  True],\n",
       "       [ True,  True,  True],\n",
       "       [ True,  True,  True]])"
      ]
     },
     "execution_count": 4,
     "metadata": {},
     "output_type": "execute_result"
    }
   ],
   "source": [
    "np.ones([3,3],dtype = bool)"
   ]
  },
  {
   "cell_type": "code",
   "execution_count": 56,
   "metadata": {},
   "outputs": [
    {
     "data": {
      "text/plain": [
       "array([1, 3, 5, 7, 9])"
      ]
     },
     "execution_count": 56,
     "metadata": {},
     "output_type": "execute_result"
    }
   ],
   "source": [
    "p[(p%2) != 0]"
   ]
  },
  {
   "cell_type": "code",
   "execution_count": 57,
   "metadata": {},
   "outputs": [
    {
     "name": "stdout",
     "output_type": "stream",
     "text": [
      "[[0 1 2 3 4]\n",
      " [5 6 7 8 9]]\n"
     ]
    }
   ],
   "source": [
    "y = np.reshape(p,[2,5])\n",
    "print (y)"
   ]
  },
  {
   "cell_type": "code",
   "execution_count": 58,
   "metadata": {},
   "outputs": [
    {
     "name": "stdout",
     "output_type": "stream",
     "text": [
      "[ 0 -2  2 -2  4 -2  6 -2  8 -2]\n"
     ]
    }
   ],
   "source": [
    "p[(p%2) != 0] = -2\n",
    "print (p)"
   ]
  },
  {
   "cell_type": "code",
   "execution_count": 22,
   "metadata": {},
   "outputs": [
    {
     "name": "stdout",
     "output_type": "stream",
     "text": [
      "[0 1 3 4 5 7 8 9]\n"
     ]
    }
   ],
   "source": [
    "q = np.union1d(p[(p%2) != 0 ], p[(p%4) == 0])\n",
    "print(q)\n"
   ]
  },
  {
   "cell_type": "code",
   "execution_count": 23,
   "metadata": {},
   "outputs": [
    {
     "data": {
      "text/plain": [
       "(array([1], dtype=int64),)"
      ]
     },
     "execution_count": 23,
     "metadata": {},
     "output_type": "execute_result"
    }
   ],
   "source": [
    "r = np.array([1,np.nan,3,4,5])\n",
    "np.where(np.isnan(r) == True)"
   ]
  },
  {
   "cell_type": "code",
   "execution_count": 10,
   "metadata": {},
   "outputs": [
    {
     "data": {
      "text/plain": [
       "array([1., 0., 3., 4., 5.])"
      ]
     },
     "execution_count": 10,
     "metadata": {},
     "output_type": "execute_result"
    }
   ],
   "source": [
    "np.nan_to_num(r,)"
   ]
  },
  {
   "cell_type": "code",
   "execution_count": 65,
   "metadata": {},
   "outputs": [
    {
     "data": {
      "text/plain": [
       "(array([0, 4, 8]), array([1, 1, 1], dtype=int64))"
      ]
     },
     "execution_count": 65,
     "metadata": {},
     "output_type": "execute_result"
    }
   ],
   "source": [
    "np.unique(q,return_counts = True)"
   ]
  },
  {
   "cell_type": "code",
   "execution_count": 95,
   "metadata": {},
   "outputs": [
    {
     "data": {
      "text/plain": [
       "array([1, 2, 3])"
      ]
     },
     "execution_count": 95,
     "metadata": {},
     "output_type": "execute_result"
    }
   ],
   "source": [
    "#11np.fromstring('1 2 3 4 5 2',dtype = int,count = 3,sep=' ')"
   ]
  },
  {
   "cell_type": "code",
   "execution_count": 48,
   "metadata": {},
   "outputs": [
    {
     "data": {
      "text/plain": [
       "array([100, 110, 112, 115, 119, 120, 125, 126, 130, 133, 135, 145, 147,\n",
       "       150, 154, 155, 160, 161, 165, 168, 170, 180, 182, 185, 189, 190,\n",
       "       195, 196, 200, 203, 205, 215, 217, 220, 224, 225, 230, 231, 235,\n",
       "       238, 240, 250, 252, 255, 259, 260, 265, 266, 270, 273, 275, 285,\n",
       "       287, 290, 294, 295])"
      ]
     },
     "execution_count": 48,
     "metadata": {},
     "output_type": "execute_result"
    }
   ],
   "source": [
    "a = np.arange(99,300)\n",
    "b = np.array(np.where(np.logical_xor([a%5 == 0],[a%7 == 0]) == True ))[1]\n",
    "a[b]"
   ]
  },
  {
   "cell_type": "code",
   "execution_count": 71,
   "metadata": {},
   "outputs": [
    {
     "name": "stdout",
     "output_type": "stream",
     "text": [
      "[5, 4, 3, 2, 1]\n"
     ]
    }
   ],
   "source": [
    "output = []\n",
    "for i in range(1,len(r)+1):\n",
    "    output.append(r[len(r)-i])\n",
    "    \n",
    "print(output)"
   ]
  },
  {
   "cell_type": "code",
   "execution_count": null,
   "metadata": {},
   "outputs": [],
   "source": []
  }
 ],
 "metadata": {
  "kernelspec": {
   "display_name": "Python 3",
   "language": "python",
   "name": "python3"
  },
  "language_info": {
   "codemirror_mode": {
    "name": "ipython",
    "version": 3
   },
   "file_extension": ".py",
   "mimetype": "text/x-python",
   "name": "python",
   "nbconvert_exporter": "python",
   "pygments_lexer": "ipython3",
   "version": "3.7.5"
  }
 },
 "nbformat": 4,
 "nbformat_minor": 2
}
