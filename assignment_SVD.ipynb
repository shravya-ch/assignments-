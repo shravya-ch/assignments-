{
 "cells": [
  {
   "cell_type": "code",
   "execution_count": 43,
   "metadata": {},
   "outputs": [],
   "source": [
    "#importing the below packages and reading the 5000x10000 matrix \n",
    "import pandas as pd\n",
    "import numpy as np\n",
    "import matplotlib.pyplot as plt\n",
    "from scipy.spatial.distance import cdist\n",
    "from matplotlib.colors import ListedColormap\n",
    "from matplotlib.colors import BoundaryNorm\n",
    "from sklearn.decomposition import TruncatedSVD\n",
    "from scipy.linalg import svd\n",
    "#data is read from the location on the desktop with space seperator and without header\n",
    "sample = pd.read_csv(\"C://Users//home//Downloads//dense_matrix_5000.csv\",sep =' ',header=None)"
   ]
  },
  {
   "cell_type": "code",
   "execution_count": 4,
   "metadata": {},
   "outputs": [
    {
     "data": {
      "text/html": [
       "<div>\n",
       "<style scoped>\n",
       "    .dataframe tbody tr th:only-of-type {\n",
       "        vertical-align: middle;\n",
       "    }\n",
       "\n",
       "    .dataframe tbody tr th {\n",
       "        vertical-align: top;\n",
       "    }\n",
       "\n",
       "    .dataframe thead th {\n",
       "        text-align: right;\n",
       "    }\n",
       "</style>\n",
       "<table border=\"1\" class=\"dataframe\">\n",
       "  <thead>\n",
       "    <tr style=\"text-align: right;\">\n",
       "      <th></th>\n",
       "      <th>0</th>\n",
       "      <th>1</th>\n",
       "      <th>2</th>\n",
       "      <th>3</th>\n",
       "      <th>4</th>\n",
       "      <th>5</th>\n",
       "      <th>6</th>\n",
       "      <th>7</th>\n",
       "      <th>8</th>\n",
       "      <th>9</th>\n",
       "      <th>...</th>\n",
       "      <th>9990</th>\n",
       "      <th>9991</th>\n",
       "      <th>9992</th>\n",
       "      <th>9993</th>\n",
       "      <th>9994</th>\n",
       "      <th>9995</th>\n",
       "      <th>9996</th>\n",
       "      <th>9997</th>\n",
       "      <th>9998</th>\n",
       "      <th>9999</th>\n",
       "    </tr>\n",
       "  </thead>\n",
       "  <tbody>\n",
       "    <tr>\n",
       "      <th>0</th>\n",
       "      <td>0</td>\n",
       "      <td>0</td>\n",
       "      <td>0</td>\n",
       "      <td>0</td>\n",
       "      <td>0</td>\n",
       "      <td>0</td>\n",
       "      <td>0</td>\n",
       "      <td>0</td>\n",
       "      <td>0</td>\n",
       "      <td>0</td>\n",
       "      <td>...</td>\n",
       "      <td>0</td>\n",
       "      <td>0</td>\n",
       "      <td>0</td>\n",
       "      <td>0</td>\n",
       "      <td>0</td>\n",
       "      <td>0</td>\n",
       "      <td>0</td>\n",
       "      <td>0</td>\n",
       "      <td>0</td>\n",
       "      <td>0</td>\n",
       "    </tr>\n",
       "    <tr>\n",
       "      <th>1</th>\n",
       "      <td>0</td>\n",
       "      <td>0</td>\n",
       "      <td>0</td>\n",
       "      <td>0</td>\n",
       "      <td>0</td>\n",
       "      <td>0</td>\n",
       "      <td>0</td>\n",
       "      <td>0</td>\n",
       "      <td>0</td>\n",
       "      <td>0</td>\n",
       "      <td>...</td>\n",
       "      <td>0</td>\n",
       "      <td>0</td>\n",
       "      <td>0</td>\n",
       "      <td>0</td>\n",
       "      <td>0</td>\n",
       "      <td>0</td>\n",
       "      <td>0</td>\n",
       "      <td>0</td>\n",
       "      <td>0</td>\n",
       "      <td>0</td>\n",
       "    </tr>\n",
       "    <tr>\n",
       "      <th>2</th>\n",
       "      <td>0</td>\n",
       "      <td>0</td>\n",
       "      <td>0</td>\n",
       "      <td>0</td>\n",
       "      <td>0</td>\n",
       "      <td>0</td>\n",
       "      <td>0</td>\n",
       "      <td>0</td>\n",
       "      <td>0</td>\n",
       "      <td>0</td>\n",
       "      <td>...</td>\n",
       "      <td>0</td>\n",
       "      <td>0</td>\n",
       "      <td>0</td>\n",
       "      <td>0</td>\n",
       "      <td>0</td>\n",
       "      <td>0</td>\n",
       "      <td>0</td>\n",
       "      <td>0</td>\n",
       "      <td>0</td>\n",
       "      <td>0</td>\n",
       "    </tr>\n",
       "    <tr>\n",
       "      <th>3</th>\n",
       "      <td>0</td>\n",
       "      <td>0</td>\n",
       "      <td>0</td>\n",
       "      <td>0</td>\n",
       "      <td>0</td>\n",
       "      <td>0</td>\n",
       "      <td>0</td>\n",
       "      <td>0</td>\n",
       "      <td>0</td>\n",
       "      <td>0</td>\n",
       "      <td>...</td>\n",
       "      <td>0</td>\n",
       "      <td>0</td>\n",
       "      <td>0</td>\n",
       "      <td>0</td>\n",
       "      <td>0</td>\n",
       "      <td>0</td>\n",
       "      <td>0</td>\n",
       "      <td>0</td>\n",
       "      <td>0</td>\n",
       "      <td>0</td>\n",
       "    </tr>\n",
       "    <tr>\n",
       "      <th>4</th>\n",
       "      <td>0</td>\n",
       "      <td>0</td>\n",
       "      <td>0</td>\n",
       "      <td>0</td>\n",
       "      <td>0</td>\n",
       "      <td>0</td>\n",
       "      <td>0</td>\n",
       "      <td>0</td>\n",
       "      <td>0</td>\n",
       "      <td>0</td>\n",
       "      <td>...</td>\n",
       "      <td>0</td>\n",
       "      <td>0</td>\n",
       "      <td>0</td>\n",
       "      <td>0</td>\n",
       "      <td>0</td>\n",
       "      <td>0</td>\n",
       "      <td>0</td>\n",
       "      <td>0</td>\n",
       "      <td>0</td>\n",
       "      <td>0</td>\n",
       "    </tr>\n",
       "  </tbody>\n",
       "</table>\n",
       "<p>5 rows × 10000 columns</p>\n",
       "</div>"
      ],
      "text/plain": [
       "   0     1     2     3     4     5     6     7     8     9     ...  9990  \\\n",
       "0     0     0     0     0     0     0     0     0     0     0  ...     0   \n",
       "1     0     0     0     0     0     0     0     0     0     0  ...     0   \n",
       "2     0     0     0     0     0     0     0     0     0     0  ...     0   \n",
       "3     0     0     0     0     0     0     0     0     0     0  ...     0   \n",
       "4     0     0     0     0     0     0     0     0     0     0  ...     0   \n",
       "\n",
       "   9991  9992  9993  9994  9995  9996  9997  9998  9999  \n",
       "0     0     0     0     0     0     0     0     0     0  \n",
       "1     0     0     0     0     0     0     0     0     0  \n",
       "2     0     0     0     0     0     0     0     0     0  \n",
       "3     0     0     0     0     0     0     0     0     0  \n",
       "4     0     0     0     0     0     0     0     0     0  \n",
       "\n",
       "[5 rows x 10000 columns]"
      ]
     },
     "execution_count": 4,
     "metadata": {},
     "output_type": "execute_result"
    }
   ],
   "source": [
    "#display the data stored in the firt five rows of data  \n",
    "sample.head()"
   ]
  },
  {
   "cell_type": "code",
   "execution_count": 5,
   "metadata": {},
   "outputs": [
    {
     "name": "stdout",
     "output_type": "stream",
     "text": [
      "<class 'pandas.core.frame.DataFrame'>\n",
      "RangeIndex: 5000 entries, 0 to 4999\n",
      "Columns: 10000 entries, 0 to 9999\n",
      "dtypes: int64(10000)\n",
      "memory usage: 381.5 MB\n"
     ]
    }
   ],
   "source": [
    "#display rows,columns,data type,memory information of data\n",
    "sample.info()"
   ]
  },
  {
   "cell_type": "code",
   "execution_count": 26,
   "metadata": {},
   "outputs": [],
   "source": [
    "def plot_matrix(matr):\n",
    "    cmap = ListedColormap(['white','red','green'])\n",
    "    norm = BoundaryNorm([-10,0.99,2.00000001,100],cmap.N)\n",
    "    plt.matshow(matr,cmap = cmap,norm = norm)\n",
    "    plt.colorbar()\n",
    "    plt.show()"
   ]
  },
  {
   "cell_type": "code",
   "execution_count": 27,
   "metadata": {},
   "outputs": [
    {
     "data": {
      "image/png": "[encoded data removed]",
      "text/plain": [
       "<Figure size 576x288 with 2 Axes>"
      ]
     },
     "metadata": {
      "needs_background": "light"
     },
     "output_type": "display_data"
    }
   ],
   "source": [
    "plot_matrix(sample)              "
   ]
  },
  {
   "cell_type": "code",
   "execution_count": 32,
   "metadata": {},
   "outputs": [
    {
     "data": {
      "image/png": "[encoded data removed]",
      "text/plain": [
       "<Figure size 576x288 with 2 Axes>"
      ]
     },
     "metadata": {
      "needs_background": "light"
     },
     "output_type": "display_data"
    }
   ],
   "source": [
    "SVD = TruncatedSVD(n_components = 1)\n",
    "A1 = SVD.fit_transform(sample)\n",
    "plot_matrix(SVD.inverse_transform(A1))"
   ]
  },
  {
   "cell_type": "code",
   "execution_count": 34,
   "metadata": {},
   "outputs": [
    {
     "data": {
      "image/png": "[encoded data removed]",
      "text/plain": [
       "<Figure size 576x288 with 2 Axes>"
      ]
     },
     "metadata": {
      "needs_background": "light"
     },
     "output_type": "display_data"
    }
   ],
   "source": [
    "SVD = TruncatedSVD(n_components = 2)\n",
    "A1 = SVD.fit_transform(sample)\n",
    "plot_matrix(SVD.inverse_transform(A1))"
   ]
  },
  {
   "cell_type": "code",
   "execution_count": 35,
   "metadata": {},
   "outputs": [
    {
     "data": {
      "image/png": "[encoded data removed]",
      "text/plain": [
       "<Figure size 576x288 with 2 Axes>"
      ]
     },
     "metadata": {
      "needs_background": "light"
     },
     "output_type": "display_data"
    }
   ],
   "source": [
    "SVD = TruncatedSVD(n_components = 5)\n",
    "A1 = SVD.fit_transform(sample)\n",
    "plot_matrix(SVD.inverse_transform(A1))"
   ]
  },
  {
   "cell_type": "code",
   "execution_count": 36,
   "metadata": {},
   "outputs": [
    {
     "data": {
      "image/png": "[encoded data removed]",
      "text/plain": [
       "<Figure size 576x288 with 2 Axes>"
      ]
     },
     "metadata": {
      "needs_background": "light"
     },
     "output_type": "display_data"
    }
   ],
   "source": [
    "SVD = TruncatedSVD(n_components = 10)\n",
    "A1 = SVD.fit_transform(sample)\n",
    "plot_matrix(SVD.inverse_transform(A1))"
   ]
  },
  {
   "cell_type": "code",
   "execution_count": 79,
   "metadata": {},
   "outputs": [],
   "source": [
    "U,Sigma1,VT = svd(sample)"
   ]
  },
  {
   "cell_type": "code",
   "execution_count": 80,
   "metadata": {},
   "outputs": [
    {
     "data": {
      "text/plain": [
       "array([[2.89905575e+02, 0.00000000e+00, 0.00000000e+00, ...,\n",
       "        0.00000000e+00, 0.00000000e+00, 0.00000000e+00],\n",
       "       [0.00000000e+00, 1.19648832e+02, 0.00000000e+00, ...,\n",
       "        0.00000000e+00, 0.00000000e+00, 0.00000000e+00],\n",
       "       [0.00000000e+00, 0.00000000e+00, 1.13407589e+02, ...,\n",
       "        0.00000000e+00, 0.00000000e+00, 0.00000000e+00],\n",
       "       ...,\n",
       "       [0.00000000e+00, 0.00000000e+00, 0.00000000e+00, ...,\n",
       "        2.46183419e-01, 0.00000000e+00, 0.00000000e+00],\n",
       "       [0.00000000e+00, 0.00000000e+00, 0.00000000e+00, ...,\n",
       "        0.00000000e+00, 2.28042439e-01, 0.00000000e+00],\n",
       "       [0.00000000e+00, 0.00000000e+00, 0.00000000e+00, ...,\n",
       "        0.00000000e+00, 0.00000000e+00, 2.20320490e-01]])"
      ]
     },
     "execution_count": 80,
     "metadata": {},
     "output_type": "execute_result"
    }
   ],
   "source": [
    "#print(U[0:10],Sigma1[0:10],VT[0:10])\n",
    "s = np.zeros((5000,5000))\n",
    "Sigma = np.diag(Sigma1)\n",
    "Sigma"
   ]
  },
  {
   "cell_type": "code",
   "execution_count": 81,
   "metadata": {},
   "outputs": [],
   "source": [
    "#function that give truncated matrix of A with rank k by taking right and left singular vectors U,VT \n",
    "#highest k singular values are considered\n",
    "def truncated_matrix(k,U,VT) :\n",
    "    #Sigma[:k,:k]\n",
    "    Ak = U[:,:k].dot(Sigma[:k,:k].dot(VT[:k,:]))\n",
    "    return Ak,Sigma;"
   ]
  },
  {
   "cell_type": "code",
   "execution_count": 82,
   "metadata": {},
   "outputs": [],
   "source": [
    "#function that calculates sum of all singular values and k highest singular values\n",
    "#fk = ratio of sum of k highest singular values to sum of all singular values  \n",
    "def calculation(Sigma,Ak,k):\n",
    "    s=np.sum(Sigma)\n",
    "    sk = np.sum(Sigma[:k,:k])\n",
    "    fk = sk/s\n",
    "    Ek = np.linalg.norm(sample-Ak) #frobenius norm of sample (5000x10000) and it's truncated matrix with k highest values\n",
    "    return s,sk,fk,Ek;"
   ]
  },
  {
   "cell_type": "code",
   "execution_count": 83,
   "metadata": {},
   "outputs": [],
   "source": [
    "# E,sk,f,s are the lists containing data of fk,sk,s,Ek for differenet values of k starting from k=0 to 4500\n",
    "x = np.min([sample.shape[0], sample.shape[1]])\n",
    "kx = np.arange(0,x,500) \n",
    "E = list()\n",
    "sk = list()\n",
    "f = list()\n",
    "s = list()\n",
    " \n",
    "for i in range(len(kx)): \n",
    "    (Ak,Sigmak)=truncated_matrix(kx[i],U,VT)  #truncated matrix for different values of k are obtained\n",
    "    (a,b,c,d) = calculation(Sigmak,Ak,kx[i])  #Ek,fk,sk,s are calculated for different valules of k and stored in lists\n",
    "    s.append(a)\n",
    "    sk.append(b)\n",
    "    f.append(c)\n",
    "    E.append(d)"
   ]
  },
  {
   "cell_type": "code",
   "execution_count": 84,
   "metadata": {},
   "outputs": [
    {
     "data": {
      "text/plain": [
       "[<matplotlib.lines.Line2D at 0x2af3bee4c8>]"
      ]
     },
     "execution_count": 84,
     "metadata": {},
     "output_type": "execute_result"
    },
    {
     "data": {
      "image/png": "[encoded data removed]",
      "text/plain": [
       "<Figure size 432x288 with 1 Axes>"
      ]
     },
     "metadata": {
      "needs_background": "light"
     },
     "output_type": "display_data"
    }
   ],
   "source": [
    "# plot fk vs k for (5000x10000)\n",
    "plt.plot(kx,f,'o-')"
   ]
  },
  {
   "cell_type": "code",
   "execution_count": 85,
   "metadata": {},
   "outputs": [
    {
     "data": {
      "text/plain": [
       "[<matplotlib.lines.Line2D at 0x2ae4657048>]"
      ]
     },
     "execution_count": 85,
     "metadata": {},
     "output_type": "execute_result"
    },
    {
     "data": {
      "image/png": "[encoded data removed]",
      "text/plain": [
       "<Figure size 432x288 with 1 Axes>"
      ]
     },
     "metadata": {
      "needs_background": "light"
     },
     "output_type": "display_data"
    }
   ],
   "source": [
    "#plot ek vs k for (5000x10000)\n",
    "plt.plot(kx,E,'o-')"
   ]
  },
  {
   "cell_type": "code",
   "execution_count": 86,
   "metadata": {},
   "outputs": [
    {
     "data": {
      "text/plain": [
       "[<matplotlib.lines.Line2D at 0x2af4e1df08>]"
      ]
     },
     "execution_count": 86,
     "metadata": {},
     "output_type": "execute_result"
    },
    {
     "data": {
      "image/png": "[encoded data removed]",
      "text/plain": [
       "<Figure size 432x288 with 1 Axes>"
      ]
     },
     "metadata": {
      "needs_background": "light"
     },
     "output_type": "display_data"
    }
   ],
   "source": [
    "#plot Ek vs fk for (5000x10000)\n",
    "plt.plot(f,E,'o-')"
   ]
  },
  {
   "cell_type": "code",
   "execution_count": 88,
   "metadata": {},
   "outputs": [
    {
     "name": "stdout",
     "output_type": "stream",
     "text": [
      "[array([0], dtype=int64), array([818], dtype=int64)]\n",
      "[array([0, 0, 0], dtype=int64), array([ 486, 1627, 2451], dtype=int64)]\n",
      "[array([0], dtype=int64), array([1659], dtype=int64)]\n",
      "[array([0, 0], dtype=int64), array([1699, 2195], dtype=int64)]\n",
      "[array([0, 0, 0], dtype=int64), array([  72, 2916, 4452], dtype=int64)]\n"
     ]
    }
   ],
   "source": [
    "#row ids are taken into list for which semantical similar rows should be found \n",
    "row_id = np.array([818,1627,1659,2195,2916])\n",
    "k1k = 1000\n",
    "(A1k,Sigma1k)=truncated_matrix(k1k,U,VT);            #truncated matrix for k=1000 is obtained \n",
    "for i in range(len(row_id)):\n",
    "    k = row_id[i]\n",
    "#cosine distance is calculated for each row id with rows in the truncated matrix and stored in matrix val_out\n",
    "    val_out = cdist(sample.iloc[k:k+1] ,A1k, 'cosine')  \n",
    "#ind has tuples of indices for which the calculated cosine distance is less than 0.5\n",
    "    ind = np.nonzero(val_out <= 0.5)\n",
    "    print (list(ind) )                   #printing the list of indices "
   ]
  },
  {
   "cell_type": "code",
   "execution_count": 90,
   "metadata": {},
   "outputs": [
    {
     "name": "stdout",
     "output_type": "stream",
     "text": [
      "[array([0], dtype=int64), array([818], dtype=int64)]\n",
      "[array([0, 0, 0, 0], dtype=int64), array([ 486, 1627, 2451, 4053], dtype=int64)]\n",
      "[array([0], dtype=int64), array([1659], dtype=int64)]\n",
      "[array([0, 0], dtype=int64), array([1699, 2195], dtype=int64)]\n",
      "[array([0, 0, 0], dtype=int64), array([  72, 2916, 4452], dtype=int64)]\n"
     ]
    }
   ],
   "source": [
    "#similarly obtaining row id's from truncated matrix of sample (5000x10000) with highest 500 singular values as mentioned above\n",
    "row_id = np.array([818,1627,1659,2195,2916])\n",
    "k500 = 500\n",
    "(A500,Sigma500)=truncated_matrix(k500,U,VT);\n",
    "for i in range(len(row_id)):\n",
    "    k = row_id[i]\n",
    "    val_out = cdist(sample.iloc[k:k+1] ,A500, 'cosine')\n",
    "    ind = np.nonzero(val_out <= 0.5)\n",
    "    print (list(ind))"
   ]
  },
  {
   "cell_type": "code",
   "execution_count": 91,
   "metadata": {},
   "outputs": [
    {
     "name": "stdout",
     "output_type": "stream",
     "text": [
      "[array([], dtype=int64), array([], dtype=int64)]\n",
      "[array([0, 0, 0, 0, 0, 0, 0, 0, 0, 0], dtype=int64), array([  82, 1212, 1627, 2451, 3124, 3750, 4053, 4383, 4564, 4770],\n",
      "      dtype=int64)]\n",
      "[array([], dtype=int64), array([], dtype=int64)]\n",
      "[array([0, 0, 0, 0], dtype=int64), array([ 672, 1699, 2195, 4181], dtype=int64)]\n",
      "[array([0], dtype=int64), array([2916], dtype=int64)]\n"
     ]
    }
   ],
   "source": [
    "#similarly obtaining row id's from truncated matrix of sample (5000x10000)with highest 50 singular values as mentioned above\n",
    "row_id = np.array([818,1627,1659,2195,2916])\n",
    "k50 = 50\n",
    "(A50,Sigma50)=truncated_matrix(k50,U,VT);\n",
    "for i in range(len(row_id)):\n",
    "    k = row_id[i]\n",
    "    val_out = cdist(sample.iloc[k:k+1] ,A50, 'cosine')\n",
    "    ind = np.nonzero(val_out <= 0.4)\n",
    "    print (list(ind))"
   ]
  },
  {
   "cell_type": "code",
   "execution_count": null,
   "metadata": {},
   "outputs": [],
   "source": []
  }
 ],
 "metadata": {
  "kernelspec": {
   "display_name": "Python 3",
   "language": "python",
   "name": "python3"
  },
  "language_info": {
   "codemirror_mode": {
    "name": "ipython",
    "version": 3
   },
   "file_extension": ".py",
   "mimetype": "text/x-python",
   "name": "python",
   "nbconvert_exporter": "python",
   "pygments_lexer": "ipython3",
   "version": "3.7.5"
  }
 },
 "nbformat": 4,
 "nbformat_minor": 2
}
