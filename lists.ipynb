{
 "cells": [
  {
   "cell_type": "code",
   "execution_count": 1,
   "metadata": {},
   "outputs": [
    {
     "name": "stdout",
     "output_type": "stream",
     "text": [
      "['hyd', 'mumbai', 'bang', 'pune', 'kolkata']\n",
      "length of list :  5\n"
     ]
    }
   ],
   "source": [
    "\n",
    "cities =  ['hyd','mumbai','bang','pune','kolkata']\n",
    "\n",
    "print cities\n",
    "\n",
    "print 'length of list : ', len(cities)"
   ]
  },
  {
   "cell_type": "code",
   "execution_count": 4,
   "metadata": {},
   "outputs": [
    {
     "name": "stdout",
     "output_type": "stream",
     "text": [
      "hyd\n",
      "mumbai\n",
      "bang\n",
      "pune\n",
      "kolkata\n",
      "**\n",
      "[0, 1, 2, 3, 4]\n",
      "(0, 'hyd')\n",
      "(1, 'mumbai')\n",
      "(2, 'bang')\n",
      "(3, 'pune')\n",
      "(4, 'kolkata')\n",
      "0\n"
     ]
    }
   ],
   "source": [
    "for city in cities :\n",
    "\n",
    "    print city\n",
    "\n",
    "print ('**')\n",
    "\n",
    "print range(len(cities))\n",
    "\n",
    " \n",
    "for i in range ( len(cities)): #index\n",
    "\n",
    "    print (i,cities[i])\n",
    "\n",
    "print (cities.index('hyd'))"
   ]
  },
  {
   "cell_type": "code",
   "execution_count": 5,
   "metadata": {},
   "outputs": [
    {
     "name": "stdout",
     "output_type": "stream",
     "text": [
      "(['mumbai', 'bang', 'pune', 'kolkata'], None)\n"
     ]
    }
   ],
   "source": [
    "y = cities.remove('hyd') #y doesn't get stored\n",
    "\n",
    "print ( cities,y )"
   ]
  },
  {
   "cell_type": "code",
   "execution_count": 6,
   "metadata": {},
   "outputs": [
    {
     "name": "stdout",
     "output_type": "stream",
     "text": [
      "(['mumbai', 'bang', 'pune'], 'kolkata')\n"
     ]
    }
   ],
   "source": [
    "k = cities.pop()  #returns k gets stored and pop removes the last element of the list\n",
    "\n",
    "print ( cities,k)"
   ]
  },
  {
   "cell_type": "code",
   "execution_count": 7,
   "metadata": {},
   "outputs": [
    {
     "name": "stdout",
     "output_type": "stream",
     "text": [
      "(['mumbai', 'bang', 'pune'], ['bang', 'mumbai', 'pune'])\n"
     ]
    }
   ],
   "source": [
    "print (cities ,sorted(cities))"
   ]
  },
  {
   "cell_type": "code",
   "execution_count": 9,
   "metadata": {},
   "outputs": [
    {
     "name": "stdout",
     "output_type": "stream",
     "text": [
      "0 mumbai\n",
      "1 bang\n",
      "2 pune\n"
     ]
    }
   ],
   "source": [
    "\n",
    "for i,city in enumerate (cities):\n",
    "\n",
    "     print i,city"
   ]
  },
  {
   "cell_type": "code",
   "execution_count": 10,
   "metadata": {},
   "outputs": [
    {
     "name": "stdout",
     "output_type": "stream",
     "text": [
      "pune\n",
      "['mumbai', 'pune']\n"
     ]
    }
   ],
   "source": [
    "#slicing\n",
    "\n",
    "print cities[-1]\n",
    "\n",
    "print cities[0:3:2] #0th is included 3rd is excluded with every second element picked from 0"
   ]
  },
  {
   "cell_type": "code",
   "execution_count": 11,
   "metadata": {},
   "outputs": [
    {
     "name": "stdout",
     "output_type": "stream",
     "text": [
      "['mumbai', 'bang', 'pune', 'vellore']\n",
      "['mumbai', 'bang', 'pune', 'vellore', ['delhi', 'patna']]\n",
      "['mumbai', 'bang', 'pune', 'vellore', ['delhi', 'patna'], 'mapro', 'tablepoint', 'arthur point']\n"
     ]
    }
   ],
   "source": [
    "cities.append('vellore') #append takes only one argument\n",
    "\n",
    "print cities\n",
    "\n",
    "cities.append(['delhi','patna'])#takes as list of list\n",
    "\n",
    "print cities\n",
    "\n",
    "cities.extend(['mapro','tablepoint','arthur point'])#takes only one and part of list\n",
    "\n",
    "print cities"
   ]
  },
  {
   "cell_type": "code",
   "execution_count": 20,
   "metadata": {},
   "outputs": [
    {
     "data": {
      "text/plain": [
       "0"
      ]
     },
     "execution_count": 20,
     "metadata": {},
     "output_type": "execute_result"
    }
   ],
   "source": [
    "AI_companies = ['Apple' ,'goggle','facebook' ,'amazon','microsoft','Sensetime']\n",
    "sorted(AI_companies)\n",
    "AI_companies.extend([ 'Nvidia', 'OpenAI' , 'Qualcomm'])\n",
    "AI_companies.remove('Apple')\n",
    "AI_companies.index('goggle')"
   ]
  },
  {
   "cell_type": "code",
   "execution_count": 10,
   "metadata": {},
   "outputs": [
    {
     "data": {
      "text/plain": [
       "('Apple',\n",
       " 'goggle',\n",
       " 'facebook',\n",
       " 'amazon',\n",
       " 'microsoft',\n",
       " 'Sensetime',\n",
       " 'Nvidia',\n",
       " 'OpenAI',\n",
       " 'Qualcomm')"
      ]
     },
     "execution_count": 10,
     "metadata": {},
     "output_type": "execute_result"
    }
   ],
   "source": [
    "tuple(AI_companies )"
   ]
  },
  {
   "cell_type": "code",
   "execution_count": 21,
   "metadata": {},
   "outputs": [],
   "source": [
    "ex = \" I am very keen in building up my career in Data Science, but not sure from where to start. If I search the web it throws me thousands of articles, few are relevant others make me confused, again I come around to the same page. Supervised has provided me a good platform to remove all such qualms which were wrangling in my mind\""
   ]
  },
  {
   "cell_type": "code",
   "execution_count": 30,
   "metadata": {},
   "outputs": [
    {
     "data": {
      "text/plain": [
       "4.2063492063492065"
      ]
     },
     "execution_count": 30,
     "metadata": {},
     "output_type": "execute_result"
    }
   ],
   "source": [
    "total_avg = sum( map(len, ex.split()) ) / len(ex.split())\n",
    "total_avg"
   ]
  },
  {
   "cell_type": "code",
   "execution_count": 35,
   "metadata": {},
   "outputs": [
    {
     "data": {
      "text/plain": [
       "' i am very keen in building up my career in data science, but not sure from where to start. if i search the web it throws me thousands of articles, few are relevant others make me confused, again i come around to the same page. supervised has provided me a good platform to remove all such qualms which were wrangling in my mind'"
      ]
     },
     "execution_count": 35,
     "metadata": {},
     "output_type": "execute_result"
    }
   ],
   "source": [
    "ex.lower()"
   ]
  },
  {
   "cell_type": "code",
   "execution_count": 40,
   "metadata": {},
   "outputs": [
    {
     "data": {
      "text/plain": [
       "' I am very keen in building up my career in Data Science but not sure from where to start If I search the web it throws me thousands of articles few are relevant others make me confused again I come around to the same page Supervised has provided me a good platform to remove all such qualms which were wrangling in my mind'"
      ]
     },
     "execution_count": 40,
     "metadata": {},
     "output_type": "execute_result"
    }
   ],
   "source": [
    "import string\n",
    "ex.translate(str.maketrans('', '', string.punctuation))"
   ]
  },
  {
   "cell_type": "code",
   "execution_count": 51,
   "metadata": {},
   "outputs": [
    {
     "data": {
      "text/plain": [
       "16"
      ]
     },
     "execution_count": 51,
     "metadata": {},
     "output_type": "execute_result"
    }
   ],
   "source": [
    "ex.find('Data Science')"
   ]
  },
  {
   "cell_type": "code",
   "execution_count": 44,
   "metadata": {},
   "outputs": [
    {
     "data": {
      "text/plain": [
       "' I am very keen in building up my career in Data Science, but not sure from where to start. If I search the web it throws me thousands of articles, few are relevant others make me confused, again I come around to the same page. Unsupervised has provided me a good platform to remove all such qualms which were wrangling in my mind'"
      ]
     },
     "execution_count": 44,
     "metadata": {},
     "output_type": "execute_result"
    }
   ],
   "source": [
    "ex.replace('Supervised','Unsupervised')"
   ]
  },
  {
   "cell_type": "code",
   "execution_count": 45,
   "metadata": {},
   "outputs": [
    {
     "data": {
      "text/plain": [
       "[' I am very keen in building up my career in Data Science, but not sure from where to start',\n",
       " ' If I search the web it throws me thousands of articles, few are relevant others make me confused, again I come around to the same page',\n",
       " ' Supervised has provided me a good platform to remove all such qualms which were wrangling in my mind']"
      ]
     },
     "execution_count": 45,
     "metadata": {},
     "output_type": "execute_result"
    }
   ],
   "source": [
    "ex.split('.')"
   ]
  },
  {
   "cell_type": "code",
   "execution_count": 46,
   "metadata": {},
   "outputs": [
    {
     "data": {
      "text/plain": [
       "22"
      ]
     },
     "execution_count": 46,
     "metadata": {},
     "output_type": "execute_result"
    }
   ],
   "source": [
    "ex.count('a')"
   ]
  },
  {
   "cell_type": "code",
   "execution_count": 48,
   "metadata": {},
   "outputs": [
    {
     "data": {
      "text/plain": [
       "['sure',\n",
       " 'where',\n",
       " 'the',\n",
       " 'me',\n",
       " 'are',\n",
       " 'make',\n",
       " 'me',\n",
       " 'come',\n",
       " 'the',\n",
       " 'same',\n",
       " 'me',\n",
       " 'remove',\n",
       " 'were']"
      ]
     },
     "execution_count": 48,
     "metadata": {},
     "output_type": "execute_result"
    }
   ],
   "source": [
    "[word for word in ex.split() if word.endswith('e')]"
   ]
  },
  {
   "cell_type": "code",
   "execution_count": 50,
   "metadata": {},
   "outputs": [
    {
     "data": {
      "text/plain": [
       "Counter({'I': 3,\n",
       "         'am': 1,\n",
       "         'very': 1,\n",
       "         'keen': 1,\n",
       "         'in': 3,\n",
       "         'building': 1,\n",
       "         'up': 1,\n",
       "         'my': 2,\n",
       "         'career': 1,\n",
       "         'Data': 1,\n",
       "         'Science,': 1,\n",
       "         'but': 1,\n",
       "         'not': 1,\n",
       "         'sure': 1,\n",
       "         'from': 1,\n",
       "         'where': 1,\n",
       "         'to': 3,\n",
       "         'start.': 1,\n",
       "         'If': 1,\n",
       "         'search': 1,\n",
       "         'the': 2,\n",
       "         'web': 1,\n",
       "         'it': 1,\n",
       "         'throws': 1,\n",
       "         'me': 3,\n",
       "         'thousands': 1,\n",
       "         'of': 1,\n",
       "         'articles,': 1,\n",
       "         'few': 1,\n",
       "         'are': 1,\n",
       "         'relevant': 1,\n",
       "         'others': 1,\n",
       "         'make': 1,\n",
       "         'confused,': 1,\n",
       "         'again': 1,\n",
       "         'come': 1,\n",
       "         'around': 1,\n",
       "         'same': 1,\n",
       "         'page.': 1,\n",
       "         'Supervised': 1,\n",
       "         'has': 1,\n",
       "         'provided': 1,\n",
       "         'a': 1,\n",
       "         'good': 1,\n",
       "         'platform': 1,\n",
       "         'remove': 1,\n",
       "         'all': 1,\n",
       "         'such': 1,\n",
       "         'qualms': 1,\n",
       "         'which': 1,\n",
       "         'were': 1,\n",
       "         'wrangling': 1,\n",
       "         'mind': 1})"
      ]
     },
     "execution_count": 50,
     "metadata": {},
     "output_type": "execute_result"
    }
   ],
   "source": [
    "from collections import Counter\n",
    "Counter(ex.split())"
   ]
  },
  {
   "cell_type": "code",
   "execution_count": 81,
   "metadata": {},
   "outputs": [
    {
     "name": "stdout",
     "output_type": "stream",
     "text": [
      "1\n"
     ]
    }
   ],
   "source": [
    "counter =0\n",
    "x = []\n",
    "for i in range(len(ex.split())-1):\n",
    "    main = ex.split()[i]+' '+ex.split()[i+1]\n",
    "    ind = ex.find(main)\n",
    "    if ind+len(main) < len(ex) :\n",
    "        ind = ex[ind+len(main):].find(main)\n",
    "        if ind != -1:\n",
    "            x.append(ex[ind])\n",
    "            counter = counter +1 \n",
    "print(counter)"
   ]
  },
  {
   "cell_type": "code",
   "execution_count": null,
   "metadata": {},
   "outputs": [],
   "source": []
  }
 ],
 "metadata": {
  "kernelspec": {
   "display_name": "Python 3",
   "language": "python",
   "name": "python3"
  },
  "language_info": {
   "codemirror_mode": {
    "name": "ipython",
    "version": 3
   },
   "file_extension": ".py",
   "mimetype": "text/x-python",
   "name": "python",
   "nbconvert_exporter": "python",
   "pygments_lexer": "ipython3",
   "version": "3.7.5"
  }
 },
 "nbformat": 4,
 "nbformat_minor": 2
}
