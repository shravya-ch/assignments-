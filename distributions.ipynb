{
 "cells": [
  {
   "cell_type": "code",
   "execution_count": 2,
   "metadata": {},
   "outputs": [
    {
     "name": "stdout",
     "output_type": "stream",
     "text": [
      "10\n",
      "\n",
      "-0.0012528707662162364 \n",
      "0.009591359567556497\n",
      "20\n",
      "\n",
      "0.002474311132886927 \n",
      "0.009591359567556497\n",
      "30\n",
      "\n",
      "0.007925289652212144 \n",
      "0.009591359567556497\n",
      "40\n",
      "\n",
      "0.007646208794489504 \n",
      "0.009591359567556497\n",
      "50\n",
      "\n",
      "0.008417202146410388 \n",
      "0.009591359567556497\n",
      "60\n",
      "\n",
      "0.008769035676528128 \n",
      "0.009591359567556497\n",
      "70\n",
      "\n",
      "0.006791605059404699 \n",
      "0.009591359567556497\n",
      "80\n",
      "\n",
      "0.008285927081783294 \n",
      "0.009591359567556497\n",
      "90\n",
      "\n",
      "0.007450574821085883 \n",
      "0.009591359567556497\n"
     ]
    }
   ],
   "source": [
    "import numpy as np\n",
    "from scipy.stats import norm\n",
    "data_norm = norm.rvs(size=10000,loc=0,scale=1)\n",
    "#rvs generates data not probability\n",
    "x_size=10\n",
    "mean_list = []\n",
    "while x_size<100 :\n",
    "    for i in range(200):\n",
    "        sample_data = np.random.choice(data_norm,size=x_size)\n",
    "        mean_list.append(np.mean(sample_data))\n",
    "    print x_size\n",
    "    x_size = x_size + 10\n",
    "    print '\\n',np.mean(mean_list),'\\n',np.mean(data_norm)"
   ]
  },
  {
   "cell_type": "code",
   "execution_count": 3,
   "metadata": {},
   "outputs": [
    {
     "data": {
      "text/plain": [
       "0.254059056469189"
      ]
     },
     "execution_count": 3,
     "metadata": {},
     "output_type": "execute_result"
    }
   ],
   "source": [
    "norm.pdf(0.95)"
   ]
  },
  {
   "cell_type": "code",
   "execution_count": 4,
   "metadata": {},
   "outputs": [
    {
     "data": {
      "text/plain": [
       "0.8289438736915182"
      ]
     },
     "execution_count": 4,
     "metadata": {},
     "output_type": "execute_result"
    }
   ],
   "source": [
    "norm.cdf(0.95)"
   ]
  },
  {
   "cell_type": "code",
   "execution_count": 5,
   "metadata": {},
   "outputs": [],
   "source": [
    "import matplotlib.pyplot as plt\n",
    "import numpy as np\n",
    "import seaborn as sns\n",
    "%matplotlib inline"
   ]
  },
  {
   "cell_type": "code",
   "execution_count": 10,
   "metadata": {},
   "outputs": [
    {
     "data": {
      "text/plain": [
       "[Text(0,0.5,u'Frequency'), Text(0.5,0,u'Normal')]"
      ]
     },
     "execution_count": 10,
     "metadata": {},
     "output_type": "execute_result"
    },
    {
     "data": {
      "image/png": "[encoded data removed]",
      "text/plain": [
       "<matplotlib.figure.Figure at 0xc1dd978>"
      ]
     },
     "metadata": {},
     "output_type": "display_data"
    }
   ],
   "source": [
    "ax =  sns.distplot(data_norm,bins = 100,kde=False,color='skyblue',hist_kws={\"linewidth\":15,'alpha':1})\n",
    "ax.set(xlabel='Normal',ylabel = 'Frequency')"
   ]
  },
  {
   "cell_type": "code",
   "execution_count": 14,
   "metadata": {},
   "outputs": [
    {
     "data": {
      "text/plain": [
       "[Text(0,0.5,u'Frequency'), Text(0.5,0,u'BiNomial')]"
      ]
     },
     "execution_count": 14,
     "metadata": {},
     "output_type": "execute_result"
    },
    {
     "data": {
      "image/png": "[encoded data removed]",
      "text/plain": [
       "<matplotlib.figure.Figure at 0xbc1d6d8>"
      ]
     },
     "metadata": {},
     "output_type": "display_data"
    }
   ],
   "source": [
    "from scipy.stats import binom\n",
    "data_binom = binom.rvs(n=10,p=0.5,size = 10000)\n",
    "#n is the number of trials ,p is the probability\n",
    "ax = sns.distplot(data_binom,kde=False,color='skyblue',hist_kws={\"linewidth\":15,'alpha':1})\n",
    "ax.set(xlabel='BiNomial',ylabel = 'Frequency')"
   ]
  },
  {
   "cell_type": "code",
   "execution_count": 15,
   "metadata": {},
   "outputs": [
    {
     "data": {
      "text/plain": [
       "[Text(0,0.5,u'Frequency'), Text(0.5,0,u'Poisson')]"
      ]
     },
     "execution_count": 15,
     "metadata": {},
     "output_type": "execute_result"
    },
    {
     "data": {
      "image/png": "[encoded data removed]",
      "text/plain": [
       "<matplotlib.figure.Figure at 0xce810b8>"
      ]
     },
     "metadata": {},
     "output_type": "display_data"
    }
   ],
   "source": [
    "from scipy.stats import poisson\n",
    "data_poisson = poisson.rvs(mu = 3,size = 10000)\n",
    "ax = sns.distplot(data_poisson,kde=False,color='green',hist_kws={\"linewidth\":15,'alpha':1})\n",
    "ax.set(xlabel='Poisson',ylabel = 'Frequency')"
   ]
  },
  {
   "cell_type": "code",
   "execution_count": null,
   "metadata": {},
   "outputs": [],
   "source": []
  }
 ],
 "metadata": {
  "kernelspec": {
   "display_name": "Python 2",
   "language": "python",
   "name": "python2"
  },
  "language_info": {
   "codemirror_mode": {
    "name": "ipython",
    "version": 2
   },
   "file_extension": ".py",
   "mimetype": "text/x-python",
   "name": "python",
   "nbconvert_exporter": "python",
   "pygments_lexer": "ipython2",
   "version": "2.7.14"
  }
 },
 "nbformat": 4,
 "nbformat_minor": 2
}
