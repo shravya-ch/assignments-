{
 "cells": [
  {
   "cell_type": "code",
   "execution_count": 5,
   "metadata": {},
   "outputs": [
    {
     "name": "stdout",
     "output_type": "stream",
     "text": [
      "Enter a number: 3\n",
      "3  is postive \n",
      "factorial = 6\n"
     ]
    }
   ],
   "source": [
    "#while loop can be used with else also \n",
    "import pdb\n",
    "a = int(input(\"Enter a number: \"))\n",
    "#pdb.set_trace()\n",
    "if a > 0 :\n",
    "    print (a,' is postive ')\n",
    "elif a == 0 :\n",
    "    print (a,'is equals to zero')\n",
    "else : \n",
    "    print (a,'is negative')\n",
    "fact = 1   \n",
    "while a !=0 :\n",
    "    fact = fact * a\n",
    "    a = a-1\n",
    "else :\n",
    "    print ('factorial =' ,fact)\n",
    "    \n",
    "\n"
   ]
  },
  {
   "cell_type": "code",
   "execution_count": 1,
   "metadata": {},
   "outputs": [
    {
     "name": "stdout",
     "output_type": "stream",
     "text": [
      "Enter a number: 3\n",
      "Enter a number: 5\n",
      "3\n",
      "4\n",
      "empty\n"
     ]
    }
   ],
   "source": [
    "#for loop is used only for iterations ,boolean or logical or comparison operations are not posssible on for loop\n",
    "#it can be used with else also \n",
    "x = int(input(\"Enter a number: \"))\n",
    "y = int(input(\"Enter a number: \"))\n",
    "\n",
    "for i in range(x,y):\n",
    "    print i\n",
    "else :\n",
    "    print 'empty'"
   ]
  },
  {
   "cell_type": "code",
   "execution_count": null,
   "metadata": {},
   "outputs": [],
   "source": []
  }
 ],
 "metadata": {
  "kernelspec": {
   "display_name": "Python 3",
   "language": "python",
   "name": "python3"
  },
  "language_info": {
   "codemirror_mode": {
    "name": "ipython",
    "version": 3
   },
   "file_extension": ".py",
   "mimetype": "text/x-python",
   "name": "python",
   "nbconvert_exporter": "python",
   "pygments_lexer": "ipython3",
   "version": "3.7.5"
  }
 },
 "nbformat": 4,
 "nbformat_minor": 2
}
